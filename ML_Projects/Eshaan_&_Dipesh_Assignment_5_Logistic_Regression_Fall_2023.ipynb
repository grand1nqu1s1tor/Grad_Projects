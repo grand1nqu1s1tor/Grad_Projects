{
  "cells": [
    {
      "cell_type": "markdown",
      "metadata": {
        "id": "zoFPTC2diw-_"
      },
      "source": [
        "# Programming Assignment 5 - Logistic Regression\n",
        "\n",
        "## In this assignment:\n",
        "\n",
        "You'll employ gradient ascent to determine weights for a logistic regression problem focused on diagnosing breast cancer.\n",
        "\n",
        "### Dataset Overview:\n",
        "\n",
        "The **Breast Cancer Wisconsin dataset** is a widely-recognized collection of features manually recorded by physicians from fine needle aspiration samples. The primary objective is to determine whether the cells are benign or malignant based on these features.\n",
        "\n",
        "**Dataset details:** [Breast Cancer Wisconsin dataset](https://archive.ics.uci.edu/ml/machine-learning-databases/breast-cancer-wisconsin)\n",
        "\n",
        "Each sample from the dataset is derived from a digitized image of a fine needle aspirate (FNA) of a breast mass. These images are processed to extract characteristics of cell nuclei, which are instrumental in the diagnostic process.\n",
        "\n",
        "### Features:\n",
        "\n",
        "The dataset consists of ten real-valued features that provide various measurements related to the cell nucleus:\n",
        "\n",
        "1. **Radius:** Mean of distances from the center to points on the perimeter.\n",
        "2. **Texture:** Standard deviation of gray-scale values.\n",
        "3. **Perimeter**\n",
        "4. **Area**\n",
        "5. **Smoothness:** Local variation in radius lengths.\n",
        "6. **Compactness:** \\( \\frac{\\text{perimeter}^2}{\\text{area}} - 1.0 \\)\n",
        "7. **Concavity:** Severity of concave portions of the contour.\n",
        "8. **Concave Points:** Number of concave portions of the contour.\n",
        "9. **Symmetry**\n",
        "10. **Fractal Dimension:** \"Coastline approximation\" - 1.\n",
        "\n",
        "### Task:\n",
        "\n",
        "Your mission is to use logistic regression on the provided features to predict whether a tumor is benign or malignant. Successfully doing so can greatly aid in early diagnosis, ultimately leading to saved lives.\n"
      ]
    },
    {
      "cell_type": "markdown",
      "metadata": {
        "id": "z5urpIQFiw_C"
      },
      "source": [
        "## Step 1:  Getting, preprocessing, and understanding the dataset"
      ]
    },
    {
      "cell_type": "markdown",
      "metadata": {
        "id": "ktdDJZ_giw_D"
      },
      "source": [
        "### Importing the standard libraries\n",
        "\n",
        "### Essential Libraries\n",
        "\n",
        "- **NumPy**: A library for numerical operations in Python.\n",
        "- **Matplotlib**: Provides a way to visualize data.\n",
        "\n",
        "### Scikit-learn Utilities\n",
        "\n",
        "- **load_breast_cancer**: Dataset included in Scikit-learn for breast cancer classification.\n",
        "- **preprocessing**: Contains methods for preparing data before applying learning algorithms.\n",
        "- **train_test_split**: A utility function to split data into training and testing sets.\n",
        "\n",
        "> **Note**: Using the `%matplotlib inline` command ensures that Matplotlib visualizations are rendered directly within the notebook.\n"
      ]
    },
    {
      "cell_type": "code",
      "execution_count": 61,
      "metadata": {
        "id": "FQsv9kh_iw_D"
      },
      "outputs": [],
      "source": [
        "# Essential libraries\n",
        "import numpy as np\n",
        "import matplotlib.pyplot as plt\n",
        "\n",
        "# Scikit-learn utilities\n",
        "from sklearn.datasets import load_breast_cancer\n",
        "from sklearn import preprocessing\n",
        "from sklearn.model_selection import train_test_split\n",
        "\n",
        "# Set up matplotlib for inline display\n",
        "%matplotlib inline"
      ]
    },
    {
      "cell_type": "markdown",
      "metadata": {
        "id": "XJbgdDOIiw_F"
      },
      "source": [
        "### Importing the dataset"
      ]
    },
    {
      "cell_type": "code",
      "execution_count": 62,
      "metadata": {
        "id": "oGjU_tCKiw_G"
      },
      "outputs": [],
      "source": [
        "# Loading the dataset\n",
        "cancer = load_breast_cancer()\n",
        "\n",
        "y = cancer.target\n",
        "X = cancer.data"
      ]
    },
    {
      "cell_type": "code",
      "execution_count": 63,
      "metadata": {
        "colab": {
          "base_uri": "https://localhost:8080/"
        },
        "id": "6bXuDs9wiw_G",
        "outputId": "3546147c-0e47-4823-a15a-bd0403d61717"
      },
      "outputs": [
        {
          "output_type": "stream",
          "name": "stdout",
          "text": [
            "(569, 30)\n",
            "(569,)\n"
          ]
        }
      ],
      "source": [
        "# Printing the shape of data (X) and target (Y) values\n",
        "print(X.shape)\n",
        "print(y.shape)"
      ]
    },
    {
      "cell_type": "markdown",
      "metadata": {
        "id": "OBm33ccCiw_G"
      },
      "source": [
        "### Data Pre-Processing\n",
        "\n",
        "### Splitting the Data\n",
        "We divide our dataset into a training set and a testing set:\n",
        "- **Training Set**: 75%\n",
        "- **Testing Set**: 25%\n",
        "\n",
        "Use the `train_test_split` function to achieve this split:\n",
        "- Assign results to: `X_train`, `X_test`, `y_train`, `y_test`\n",
        "- Set `random_state` to 42 to ensure reproducibility.\n",
        "\n",
        "\n"
      ]
    },
    {
      "cell_type": "code",
      "execution_count": 64,
      "metadata": {
        "id": "_XZW4yD9iw_G"
      },
      "outputs": [],
      "source": [
        "# Split the data using train_test_split\n",
        "X_train, X_test, y_train, y_test = train_test_split(X, y,random_state=42)"
      ]
    },
    {
      "cell_type": "markdown",
      "metadata": {
        "id": "oiudGq5ciw_H"
      },
      "source": [
        "### Scaling the Data Using Standard Scaler\n",
        "\n",
        "Since we are using gradient ascent, it's important to scale our data to ensure faster convergence. One of the most common methods to scale data is to use the `Standard Scaler`.\n",
        "\n",
        "The `Standard Scaler` normalizes the features by subtracting the mean and scaling to unit variance.\n",
        "\n",
        "Using `Standard Scaler`, each feature will have a mean of 0 and a standard deviation of 1 post-scaling.\n"
      ]
    },
    {
      "cell_type": "code",
      "execution_count": 65,
      "metadata": {
        "id": "cw1946Aziw_H"
      },
      "outputs": [],
      "source": [
        "scaler = preprocessing.StandardScaler().fit(X_train)\n",
        "X_train = scaler.transform(X_train)\n",
        "X_test = scaler.transform(X_test)"
      ]
    },
    {
      "cell_type": "code",
      "execution_count": 66,
      "metadata": {
        "colab": {
          "base_uri": "https://localhost:8080/"
        },
        "id": "ZQC-I7jUiw_I",
        "outputId": "383d247e-89ec-4eb4-dc12-9152e2da6823"
      },
      "outputs": [
        {
          "output_type": "stream",
          "name": "stdout",
          "text": [
            "Shape of x_train: (426, 30)\n",
            "Shape of y_train: (426,)\n"
          ]
        }
      ],
      "source": [
        "# TODO - Print the shape of x_train and y_train\n",
        "print(\"Shape of x_train:\", X_train.shape)\n",
        "print(\"Shape of y_train:\", y_train.shape)\n",
        "##\n",
        " # When you print the shape of x_train, it should print (426, 30)\n",
        " # When you print the shape of y_train, it should print (426,)"
      ]
    },
    {
      "cell_type": "markdown",
      "metadata": {
        "id": "oh0e09Gdiw_I"
      },
      "source": [
        "#### Adding a Bias Term to $X_{\\text{train}}$ and $X_{\\text{test}}$\n",
        "To account for the intercept term in our logistic regression model, we augment our feature matrices with a column of ones. This is often referred to as the bias term.\n",
        "\n",
        "Given our original matrix:\n",
        "$$X_{\\text{train}}=\\left[\\begin{matrix}\n",
        "x^{(1)}_1& x^{(1)}_2 &\\ldots& x^{(1)}_d\\\\\n",
        "x^{(2)}_1& x^{(2)}_2 &\\ldots& x^{(2)}_d\\\\\n",
        "\\vdots & \\vdots &\\ddots & \\vdots \\\\\n",
        "x^{(N')}_1& x^{(N')}_2 &\\ldots& x^{(N')}_d\\\\\n",
        "\\end{matrix}\\right]$$\n",
        "\n",
        "We add a column of ones:\n",
        "$$ X_{\\text{train}}=\\left[\\begin{matrix}\n",
        "1& x^{(1)}_1& x^{(1)}_2 &\\ldots& x^{(1)}_d\\\\\n",
        "1& x^{(2)}_1& x^{(2)}_2 &\\ldots& x^{(2)}_d\\\\\n",
        "\\vdots & \\vdots &\\vdots &\\ddots & \\vdots \\\\\n",
        "1& x^{(N')}_1& x^{(N')}_2 &\\ldots& x^{(N')}_d\\\\\n",
        "\\end{matrix}\\right]$$\n",
        "\n",
        "Similarly, we augment $X_{\\text{test}}$ with a column of ones. This allows our algorithm to learn an intercept term without needing special handling."
      ]
    },
    {
      "cell_type": "code",
      "execution_count": 67,
      "metadata": {
        "colab": {
          "base_uri": "https://localhost:8080/"
        },
        "id": "YCYoh3ceiw_J",
        "outputId": "45c4aa2a-8037-4c2e-f64a-12078090279e"
      },
      "outputs": [
        {
          "output_type": "stream",
          "name": "stdout",
          "text": [
            "The trainng data has dimensions:  (426, 31) . The testing data has dimensions:  (143, 31)\n",
            "[[ 1.         -0.34913849 -1.43851335 -0.41172595 -0.39047943 -1.86366229\n",
            "  -1.26860704 -0.82617052 -0.95286585 -1.72936805 -0.9415409  -0.86971355\n",
            "  -1.35865347 -0.83481506 -0.57230673 -0.74586846 -0.65398319 -0.52583524\n",
            "  -0.94677147 -0.53781728 -0.63449458 -0.54268486 -1.65565452 -0.58986401\n",
            "  -0.52555985 -1.51066925 -0.89149994 -0.75021715 -0.91671059 -0.92508585\n",
            "  -0.80841115]\n",
            " [ 1.         -0.20468665  0.31264011 -0.13367256 -0.27587995  1.07807258\n",
            "   0.86354605  0.72631375  0.89844062  1.17876963  1.47437716 -0.04022275\n",
            "  -0.50962253  0.10947722 -0.13472838 -0.52489487 -0.14934475  0.07460028\n",
            "   0.23747244 -0.43028253  0.08289146  0.04148684  0.68989862  0.19412774\n",
            "  -0.05193356  1.12941497  0.92394223  1.22221738  1.43655962  1.14955889\n",
            "   1.56911143]]\n"
          ]
        }
      ],
      "source": [
        "# Appending a column of ones to x_train\n",
        "\n",
        "# Step 1: Create a column vector of ones (i.e. a vector of shape N',1)\n",
        "ones = np.ones(X_train.shape[0]).reshape((X_train.shape[0], 1))\n",
        "\n",
        "# Step 2: Append a column of ones in the beginning of x_train\n",
        "X_train = np.hstack((ones, X_train))\n",
        "\n",
        "\n",
        "# Now do the same for the test data\n",
        "# Step 1: Create a column vector of ones (i.e. a vector of shape N\",1)\n",
        "ones = np.ones(X_test.shape[0]).reshape((X_test.shape[0], 1))\n",
        "\n",
        "# Stemp 2: Append a column of ones in the beginning of x_test\n",
        "X_test = np.hstack((ones, X_test))\n",
        "\n",
        "\n",
        "# We can check that everything worked correctly by:\n",
        "# Printing out the new dimensions\n",
        "print(\"The trainng data has dimensions: \", X_train.shape, \". The testing data has dimensions: \",X_test.shape)\n",
        "\n",
        "# Looking at the first two rows of X_train to check everything worked as expected\n",
        "print(X_train[0:2])"
      ]
    },
    {
      "cell_type": "markdown",
      "metadata": {
        "id": "LOxpb3xCiw_J"
      },
      "source": [
        "### Reshaping the Target Vectors\n",
        "\n",
        "due to the broadcasting feature in libraries like NumPy, if we're not careful with the shapes of our matrices, we might unintentionally compute the outer product instead of the desired inner product. This can lead to unexpected results and potential bugs in the algorithm. Reshaping the target vectors into 2D arrays helps prevent such issues."
      ]
    },
    {
      "cell_type": "code",
      "execution_count": 68,
      "metadata": {
        "id": "IobteEW0iw_J"
      },
      "outputs": [],
      "source": [
        "y_train = y_train.reshape(y_train.shape[0],1)\n",
        "y_test = y_test.reshape((y_test.shape[0],1))"
      ]
    },
    {
      "cell_type": "markdown",
      "metadata": {
        "id": "bfwRPOqsiw_K"
      },
      "source": [
        "### Understanding the dataset"
      ]
    },
    {
      "cell_type": "code",
      "execution_count": 69,
      "metadata": {
        "colab": {
          "base_uri": "https://localhost:8080/"
        },
        "id": "izRuFzqOiw_K",
        "outputId": "e2c5a3c6-dffd-40c7-9365-02e103fea543"
      },
      "outputs": [
        {
          "output_type": "stream",
          "name": "stdout",
          "text": [
            ".. _breast_cancer_dataset:\n",
            "\n",
            "Breast cancer wisconsin (diagnostic) dataset\n",
            "--------------------------------------------\n",
            "\n",
            "**Data Set Characteristics:**\n",
            "\n",
            "    :Number of Instances: 569\n",
            "\n",
            "    :Number of Attributes: 30 numeric, predictive attributes and the class\n",
            "\n",
            "    :Attribute Information:\n",
            "        - radius (mean of distances from center to points on the perimeter)\n",
            "        - texture (standard deviation of gray-scale values)\n",
            "        - perimeter\n",
            "        - area\n",
            "        - smoothness (local variation in radius lengths)\n",
            "        - compactness (perimeter^2 / area - 1.0)\n",
            "        - concavity (severity of concave portions of the contour)\n",
            "        - concave points (number of concave portions of the contour)\n",
            "        - symmetry\n",
            "        - fractal dimension (\"coastline approximation\" - 1)\n",
            "\n",
            "        The mean, standard error, and \"worst\" or largest (mean of the three\n",
            "        worst/largest values) of these features were computed for each image,\n",
            "        resulting in 30 features.  For instance, field 0 is Mean Radius, field\n",
            "        10 is Radius SE, field 20 is Worst Radius.\n",
            "\n",
            "        - class:\n",
            "                - WDBC-Malignant\n",
            "                - WDBC-Benign\n",
            "\n",
            "    :Summary Statistics:\n",
            "\n",
            "    ===================================== ====== ======\n",
            "                                           Min    Max\n",
            "    ===================================== ====== ======\n",
            "    radius (mean):                        6.981  28.11\n",
            "    texture (mean):                       9.71   39.28\n",
            "    perimeter (mean):                     43.79  188.5\n",
            "    area (mean):                          143.5  2501.0\n",
            "    smoothness (mean):                    0.053  0.163\n",
            "    compactness (mean):                   0.019  0.345\n",
            "    concavity (mean):                     0.0    0.427\n",
            "    concave points (mean):                0.0    0.201\n",
            "    symmetry (mean):                      0.106  0.304\n",
            "    fractal dimension (mean):             0.05   0.097\n",
            "    radius (standard error):              0.112  2.873\n",
            "    texture (standard error):             0.36   4.885\n",
            "    perimeter (standard error):           0.757  21.98\n",
            "    area (standard error):                6.802  542.2\n",
            "    smoothness (standard error):          0.002  0.031\n",
            "    compactness (standard error):         0.002  0.135\n",
            "    concavity (standard error):           0.0    0.396\n",
            "    concave points (standard error):      0.0    0.053\n",
            "    symmetry (standard error):            0.008  0.079\n",
            "    fractal dimension (standard error):   0.001  0.03\n",
            "    radius (worst):                       7.93   36.04\n",
            "    texture (worst):                      12.02  49.54\n",
            "    perimeter (worst):                    50.41  251.2\n",
            "    area (worst):                         185.2  4254.0\n",
            "    smoothness (worst):                   0.071  0.223\n",
            "    compactness (worst):                  0.027  1.058\n",
            "    concavity (worst):                    0.0    1.252\n",
            "    concave points (worst):               0.0    0.291\n",
            "    symmetry (worst):                     0.156  0.664\n",
            "    fractal dimension (worst):            0.055  0.208\n",
            "    ===================================== ====== ======\n",
            "\n",
            "    :Missing Attribute Values: None\n",
            "\n",
            "    :Class Distribution: 212 - Malignant, 357 - Benign\n",
            "\n",
            "    :Creator:  Dr. William H. Wolberg, W. Nick Street, Olvi L. Mangasarian\n",
            "\n",
            "    :Donor: Nick Street\n",
            "\n",
            "    :Date: November, 1995\n",
            "\n",
            "This is a copy of UCI ML Breast Cancer Wisconsin (Diagnostic) datasets.\n",
            "https://goo.gl/U2Uwz2\n",
            "\n",
            "Features are computed from a digitized image of a fine needle\n",
            "aspirate (FNA) of a breast mass.  They describe\n",
            "characteristics of the cell nuclei present in the image.\n",
            "\n",
            "Separating plane described above was obtained using\n",
            "Multisurface Method-Tree (MSM-T) [K. P. Bennett, \"Decision Tree\n",
            "Construction Via Linear Programming.\" Proceedings of the 4th\n",
            "Midwest Artificial Intelligence and Cognitive Science Society,\n",
            "pp. 97-101, 1992], a classification method which uses linear\n",
            "programming to construct a decision tree.  Relevant features\n",
            "were selected using an exhaustive search in the space of 1-4\n",
            "features and 1-3 separating planes.\n",
            "\n",
            "The actual linear program used to obtain the separating plane\n",
            "in the 3-dimensional space is that described in:\n",
            "[K. P. Bennett and O. L. Mangasarian: \"Robust Linear\n",
            "Programming Discrimination of Two Linearly Inseparable Sets\",\n",
            "Optimization Methods and Software 1, 1992, 23-34].\n",
            "\n",
            "This database is also available through the UW CS ftp server:\n",
            "\n",
            "ftp ftp.cs.wisc.edu\n",
            "cd math-prog/cpo-dataset/machine-learn/WDBC/\n",
            "\n",
            ".. topic:: References\n",
            "\n",
            "   - W.N. Street, W.H. Wolberg and O.L. Mangasarian. Nuclear feature extraction \n",
            "     for breast tumor diagnosis. IS&T/SPIE 1993 International Symposium on \n",
            "     Electronic Imaging: Science and Technology, volume 1905, pages 861-870,\n",
            "     San Jose, CA, 1993.\n",
            "   - O.L. Mangasarian, W.N. Street and W.H. Wolberg. Breast cancer diagnosis and \n",
            "     prognosis via linear programming. Operations Research, 43(4), pages 570-577, \n",
            "     July-August 1995.\n",
            "   - W.H. Wolberg, W.N. Street, and O.L. Mangasarian. Machine learning techniques\n",
            "     to diagnose breast cancer from fine-needle aspirates. Cancer Letters 77 (1994) \n",
            "     163-171.\n"
          ]
        }
      ],
      "source": [
        "# Read through the description of the dataset by uncommenting the line of code below\n",
        "print(cancer.DESCR)"
      ]
    },
    {
      "cell_type": "code",
      "execution_count": 70,
      "metadata": {
        "id": "szAiziJHiw_K"
      },
      "outputs": [],
      "source": [
        "# You can add your own code here to better understand the dataset"
      ]
    },
    {
      "cell_type": "markdown",
      "metadata": {
        "id": "5yjWeLsLiw_K"
      },
      "source": [
        "\n",
        "# Step 2: Fitting the model\n",
        "\n",
        "## Implementing Logistic Regression Using Gradient Ascent\n",
        "\n",
        "\n",
        "You will perform the following steps:\n",
        "* write the sigmoid function $\\sigma(z)=\\frac{1}{1+e^{-z}}$\n",
        "* initialize ${\\bf w}$\n",
        "* prediction: write the function to compute the probability of every example in $X$ belonging to class one\n",
        "* write the log likelihood function (see lecture notes for the formula)\n",
        "* write the gradient ascent algorithm\n",
        "* plot the likelihood v/s the number of iterations\n",
        "* predict the class label (i.e. $0,1$) for every example in $X$ for a given ${\\bf w}$ and $t$\n",
        "* Evaluate your hypothesis by using your hypothesis to predict the label of the examples in the test set.  Using these predicted value you will then determine the precision, recall and F1 score of the test set"
      ]
    },
    {
      "cell_type": "markdown",
      "metadata": {
        "id": "HyDal_wRiw_L"
      },
      "source": [
        "\n",
        "\n",
        "### Sigmoid($z$)\n",
        "The first function you will write is sigmoid($z$)\n",
        "\n",
        "sigmoid($z$) takes as input a column vector of real numbers, $z^T = [z_1, z_2, ..., z_{N'}]$, where $N'$ is the number of  examples\n",
        "\n",
        "It should produce as output a column vector $\\left[\\frac{1}{1+e^{-z_1}},\\frac{1}{1+e^{-z_2}},...,\\frac{1}{1+e^{-z_{N'}}}\\right]^T$"
      ]
    },
    {
      "cell_type": "code",
      "execution_count": 71,
      "metadata": {
        "id": "O9stsL3Ziw_L"
      },
      "outputs": [],
      "source": [
        "# TODO - Write the sigmoid function (z can be a scalar or a vector)\n",
        "def sigmoid(z):\n",
        "    ## TODO\n",
        "\n",
        "    return 1 / (1 + np.exp(-z))\n",
        "\n",
        "    ##"
      ]
    },
    {
      "cell_type": "code",
      "execution_count": 72,
      "metadata": {
        "colab": {
          "base_uri": "https://localhost:8080/"
        },
        "id": "7UEE5fxOiw_L",
        "outputId": "3722dc65-d613-4cb7-b40d-ab927bd94b5d"
      },
      "outputs": [
        {
          "output_type": "stream",
          "name": "stdout",
          "text": [
            "0.5\n"
          ]
        }
      ],
      "source": [
        "# VERIFY - Sigmoid of 0 should be equal to 0.5\n",
        "print(sigmoid(0))"
      ]
    },
    {
      "cell_type": "markdown",
      "metadata": {
        "id": "_6m8XkQQiw_L"
      },
      "source": [
        "### Initializing ${\\bf w}$\n",
        "For testing the next functions, we create a coefficient vector, ${\\bf w}$.\n",
        "We will initialize the coeffients to be $0$, i.e. ${\\bf w}^T = [0,0,\\ldots ,0]$ (We could have initialized ${\\bf w}$ with any values.)"
      ]
    },
    {
      "cell_type": "code",
      "execution_count": 73,
      "metadata": {
        "colab": {
          "base_uri": "https://localhost:8080/"
        },
        "id": "xtYoQExQiw_L",
        "outputId": "c9196ec5-c259-4715-dd8f-565100ea7d00"
      },
      "outputs": [
        {
          "output_type": "stream",
          "name": "stdout",
          "text": [
            "(31,)\n"
          ]
        }
      ],
      "source": [
        "# Initialize parameters w\n",
        "## TODO\n",
        "# Initialize the coefficient vector w with zeros\n",
        "w = np.zeros(31)\n",
        "##\n",
        "print(w.shape)"
      ]
    },
    {
      "cell_type": "markdown",
      "metadata": {
        "id": "xYx8CRYziw_L"
      },
      "source": [
        "### Prediction Function\n",
        "Complete the `hypothesis` function to compute the probability that each example in \\(X\\) belongs to class one. Specifically, it calculates:\n",
        "\n",
        "$$\\hat{\\bf y}=\\sigma(X{\\bf w})$$\n",
        "\n",
        "For a single example represented by the design matrix:\n",
        "\n",
        "$$X=[1,x_1,x_2,\\ldots,x_d]$$\n",
        "\n",
        "and the corresponding weight vector:\n",
        "\n",
        "$${\\bf w}^T=[w_0,w_1,\\ldots, w_d]$$\n",
        "\n",
        "The function returns the logistic regression prediction:\n",
        "\n",
        "$$h({\\bf x})=\\frac{1}{1+e^{-\\left({w_{0}\\cdot 1 +w_1\\cdot x_1+\\cdots +w_d\\cdot x_d}\\right)}}$$\n",
        "\n",
        "Given a matrix with $N'$ examples:\n",
        "\n",
        "$$X=\\left[\\begin{matrix}\n",
        "1& x^{(1)}_1& x^{(1)}_2 &\\ldots& x^{(1)}_d\\\\\n",
        "1& x^{(2)}_1& x^{(2)}_2 &\\ldots& x^{(2)}_d\\\\\n",
        "\\vdots & \\vdots &\\vdots &\\ddots & \\vdots \\\\\n",
        "1& x^{(N')}_1& x^{(N')}_2 &\\ldots& x^{(N')}_d\\\\\n",
        "\\end{matrix}\\right]$$\n",
        "\n",
        "with the same weight vector, the function will return:\n",
        "\n",
        "$$[h({\\bf x}^{(1)}),h({\\bf x}^{(2)}),\\ldots, h({\\bf x}^{(N')})]^T$$\n"
      ]
    },
    {
      "cell_type": "code",
      "execution_count": 74,
      "metadata": {
        "id": "Fcu7Apdhiw_M"
      },
      "outputs": [],
      "source": [
        "# predict the probability that a patient has cancer\n",
        "# TODO - Write the hypothesis function\n",
        "def hypothesis(X , w):\n",
        "    #TODO\n",
        "    z = np.dot(X, w)\n",
        "\n",
        "    # Calculate the logistic regression prediction using the sigmoid function\n",
        "    h = 1 / (1 + np.exp(-z))\n",
        "\n",
        "    return h\n",
        "    ##"
      ]
    },
    {
      "cell_type": "markdown",
      "metadata": {
        "id": "QhwkRjsHiw_M"
      },
      "source": [
        "Before moving on, do a quick check that your function can accpet a matrix as an argument."
      ]
    },
    {
      "cell_type": "code",
      "execution_count": 75,
      "metadata": {
        "colab": {
          "base_uri": "https://localhost:8080/"
        },
        "id": "1I7ADnUciw_M",
        "outputId": "525245ff-bb77-432c-ef59-a7b221877177"
      },
      "outputs": [
        {
          "output_type": "stream",
          "name": "stdout",
          "text": [
            "(426,)\n",
            "(426, 1)\n"
          ]
        }
      ],
      "source": [
        "# Compute y_hat using our training examples and w (w is still set to zero).\n",
        "# This is just a preliminary test of the hypotheis function\n",
        "yhat = hypothesis(X_train, w)\n",
        "\n",
        "# print the sizes of yhat and y as a first check that the function performed correctly\n",
        "print(yhat.shape) # this should return (426, 1)\n",
        "print(y_train.shape) # this should return (426,)"
      ]
    },
    {
      "cell_type": "markdown",
      "metadata": {
        "id": "qiPPsYNviw_M"
      },
      "source": [
        "### Log-Likelihood Function\n",
        "\n",
        "Write the function to calculate the log-likelihood:\n",
        "\n",
        "$$\n",
        "\\ell({\\bf w})= \\sum_{i=1}^{N'} y^{(i)} \\ln(h({\\bf x}^{(i)})) + (1 - y^{(i)}) \\ln(1 - h({\\bf x}^{(i)}))\n",
        "$$\n",
        "\n",
        "Where:\n",
        "\n",
        "- **Input**:\n",
        "  - Design matrix with $N'$ examples:\n",
        "    \n",
        "   $$\n",
        "    X = \\left[\\begin{array}{cccc}\n",
        "    1 & x^{(1)}_1 & \\ldots & x^{(1)}_d \\\\\n",
        "    1 & x^{(2)}_1 & \\ldots & x^{(2)}_d \\\\\n",
        "    \\vdots & \\vdots & \\ddots & \\vdots \\\\\n",
        "    1 & x^{(N')}_1 & \\ldots & x^{(N')}_d \\\\\n",
        "    \\end{array}\\right]\n",
        "   $$\n",
        "    \n",
        "  - Column vector of labels for $X$:\n",
        "    \n",
        "  $$\n",
        "    {\\bf y}^T = [y^{(1)}, y^{(2)}, \\ldots, y^{(N')}]\n",
        "   $$\n",
        "  \n",
        "- **Output**:\n",
        "  - Log-likelihood value: $\\ell({\\bf w})$"
      ]
    },
    {
      "cell_type": "code",
      "execution_count": 76,
      "metadata": {
        "id": "nyFAVcp2iw_N"
      },
      "outputs": [],
      "source": [
        "# TODO - Write the log likelihood function\n",
        "def log_likelihood(X , y , w):\n",
        "    ##TODO\n",
        "    h = hypothesis(X, w)\n",
        "\n",
        "    likelihood = np.dot(y.T, np.log(h)) + np.dot((1 - y.T), np.log(1 - h))\n",
        "\n",
        "    log_likelihood = np.sum(likelihood)\n",
        "\n",
        "    ##\n",
        "    return log_likelihood # you should return a real number, not a list containing a real number"
      ]
    },
    {
      "cell_type": "markdown",
      "metadata": {
        "id": "7fKGWxZgiw_N"
      },
      "source": [
        "Before moving on, do a quick check of your log_likelihood function"
      ]
    },
    {
      "cell_type": "code",
      "execution_count": 77,
      "metadata": {
        "colab": {
          "base_uri": "https://localhost:8080/"
        },
        "id": "P5oThzEBiw_N",
        "outputId": "098fb7a9-d937-4820-cc64-014bb2940fe9"
      },
      "outputs": [
        {
          "output_type": "stream",
          "name": "stdout",
          "text": [
            "-295.2806989185367\n"
          ]
        }
      ],
      "source": [
        "# VERIFY - The value should be equal to -295.2806989185367.\n",
        "print(log_likelihood(X_train, y_train, w))"
      ]
    },
    {
      "cell_type": "markdown",
      "metadata": {
        "id": "QIuhlsi9iw_N"
      },
      "source": [
        "# Gradient Ascent\n",
        "Now write the code to perform gradient ascent.  You will use the update rule from the lecture notes."
      ]
    },
    {
      "cell_type": "code",
      "execution_count": 78,
      "metadata": {
        "id": "AEm6YSo-iw_N"
      },
      "outputs": [],
      "source": [
        "import numpy as np\n",
        "\n",
        "def Logistic_Regression_Gradient_Ascent(X, y, learning_rate, num_iters):\n",
        "    # We assume X has been augmented with a column of ones\n",
        "\n",
        "    # Initiating list to store values of log-likelihood after 100 iterations\n",
        "    log_likelihood_values = []\n",
        "\n",
        "    # Initialize w to be a zero vector of shape (X.shape[1], 1)\n",
        "    w = np.zeros((X.shape[1], 1))\n",
        "\n",
        "    # Initialize N to the number of training examples\n",
        "    N = X.shape[0]\n",
        "\n",
        "    # Gradient Ascent - local optimization technique\n",
        "    for i in range(num_iters):\n",
        "        # Calculate the predicted probabilities using the sigmoid function\n",
        "        h = 1 / (1 + np.exp(-np.dot(X, w)))\n",
        "\n",
        "        # Calculate the gradient of the log-likelihood with respect to w\n",
        "        gradient = np.dot(X.T, (y - h))\n",
        "\n",
        "        # Update w using the gradient ascent formula\n",
        "        w += (learning_rate / N) * gradient\n",
        "\n",
        "        # Every 100 iterations, store the log_likelihood for the current w\n",
        "        if (i % 100) == 0:\n",
        "            curr_log_likelihood = log_likelihood(X, y, w)\n",
        "            log_likelihood_values.append(curr_log_likelihood)\n",
        "            # On your own, monitor the learning process, print the iteration number, the log-likelihood, ...\n",
        "\n",
        "    return w, log_likelihood_values\n"
      ]
    },
    {
      "cell_type": "markdown",
      "metadata": {
        "id": "uDoc60uAiw_O"
      },
      "source": [
        "### After completing the code above, run the following"
      ]
    },
    {
      "cell_type": "markdown",
      "source": [
        "Coeffecient Vector w"
      ],
      "metadata": {
        "id": "hT1y9OM23fRC"
      }
    },
    {
      "cell_type": "code",
      "execution_count": 79,
      "metadata": {
        "colab": {
          "base_uri": "https://localhost:8080/"
        },
        "id": "CE12lqu0iw_O",
        "outputId": "5bab983c-4187-4506-fcc7-9e11b054c8f4"
      },
      "outputs": [
        {
          "output_type": "stream",
          "name": "stdout",
          "text": [
            "Coefficient vector w:\n",
            "[[-0.1056701 ]\n",
            " [-0.03553097]\n",
            " [-0.0536691 ]\n",
            " [ 0.17221516]\n",
            " [-0.31116366]\n",
            " [-0.45434972]\n",
            " [ 2.75131896]\n",
            " [-1.30570826]\n",
            " [-3.03314808]\n",
            " [ 1.16803283]\n",
            " [-0.85636742]\n",
            " [-3.72793978]\n",
            " [ 0.72266145]\n",
            " [-0.80953786]\n",
            " [-2.47051644]\n",
            " [-0.40297532]\n",
            " [ 0.53078335]\n",
            " [ 0.03099043]\n",
            " [-1.27545053]\n",
            " [ 1.31001975]\n",
            " [ 2.1018566 ]\n",
            " [-1.64716699]\n",
            " [-2.84431473]\n",
            " [-0.20035616]\n",
            " [-1.77971341]\n",
            " [-0.16157425]\n",
            " [ 0.73553297]\n",
            " [-2.45713669]\n",
            " [-1.31520556]\n",
            " [-2.99931319]\n",
            " [-0.38232592]]\n"
          ]
        }
      ],
      "source": [
        "# Set hyperparameters\n",
        "learning_rate = 0.5\n",
        "num_iters = 5000\n",
        "\n",
        "# Initialize coefficients to zeros\n",
        "w = np.zeros((X_train.shape[1], 1))\n",
        "\n",
        "# Perform logistic regression using gradient ascent\n",
        "w, log_likelihood_values = Logistic_Regression_Gradient_Ascent(X_train, y_train, learning_rate, num_iters)\n",
        "\n",
        "# Print the final coefficients\n",
        "print(\"Coefficient vector w:\")\n",
        "print(w)\n",
        "# # Print the log likelihoood\n",
        "# print(\"Log Likelihood:\")\n",
        "# print(log_likelihood_values)\n"
      ]
    },
    {
      "cell_type": "markdown",
      "metadata": {
        "id": "pBBywTYEiw_O"
      },
      "source": [
        "# Plotting Log-Likelihood v/s Number of Iterations."
      ]
    },
    {
      "cell_type": "code",
      "execution_count": 80,
      "metadata": {
        "colab": {
          "base_uri": "https://localhost:8080/",
          "height": 472
        },
        "id": "KyzjNEs_iw_O",
        "outputId": "d3ea7b5c-013d-4761-e835-2c1f9633d10e"
      },
      "outputs": [
        {
          "output_type": "display_data",
          "data": {
            "text/plain": [
              "<Figure size 640x480 with 1 Axes>"
            ],
            "image/png": "[encoded data removed]"
          },
          "metadata": {}
        }
      ],
      "source": [
        "# Run this cell to plot Likelihood v/s Number of Iterations.\n",
        "iters = np.array(range(0,num_iters,100))\n",
        "plt.plot(iters,log_likelihood_values,'.-',color='green')\n",
        "plt.xlabel('Number of iterations')\n",
        "plt.ylabel('Log-Likelihood')\n",
        "plt.title(\"Log-Likelihood vs Number of Iterations.\")\n",
        "plt.grid()"
      ]
    },
    {
      "cell_type": "markdown",
      "metadata": {
        "id": "wPeZxDjjiw_f"
      },
      "source": [
        "You should see the likelihood increasing as number of Iterations increase."
      ]
    },
    {
      "cell_type": "code",
      "execution_count": 81,
      "metadata": {
        "colab": {
          "base_uri": "https://localhost:8080/"
        },
        "id": "YKeMqZM7iw_f",
        "outputId": "285af38a-36fe-4ce4-aa81-df334101e0e7"
      },
      "outputs": [
        {
          "output_type": "stream",
          "name": "stdout",
          "text": [
            "Log Likelihood:\n",
            "[-104.34561005259052, -30.613421040599732, -26.679954427411666, -24.76478769939301, -23.544913930501746, -22.668618640929342, -21.995874538657674, -21.45672990771387, -21.009472103607315, -20.62725194414171, -20.292743277182133, -19.994625484608665, -19.725219641902154, -19.47908964602271, -19.252242101930726, -19.041653725735586, -18.844978275885236, -18.66035663838307, -18.486289239717962, -18.321547742766644, -18.16511236690654, -18.0161264094924, -17.873862603144918, -17.737697795406596, -17.607093594208827, -17.481581364550586, -17.360750448842477, -17.244238809830648, -17.131725517984442, -17.022924660136155, -16.917580355470143, -16.815462643191943, -16.71636406294889, -16.620096790720158, -16.526490223816662, -16.435388931827745, -16.346650907930005, -16.26014606841489, -16.175754958663532, -16.093367631862147, -16.012882673077193, -15.93420634630247, -15.857251846063125, -15.781938638342, -15.708191878155375, -15.635941893182663, -15.565123724547389, -15.49567671723482, -15.427544153774665, -15.360672925764225]\n"
          ]
        }
      ],
      "source": [
        "# Set hyperparameters\n",
        "learning_rate = 0.5\n",
        "num_iterations = 5000\n",
        "\n",
        "# Initialize coefficients to zeros\n",
        "w = np.zeros((X_train.shape[1], 1))\n",
        "\n",
        "# Perform logistic regression using gradient ascent\n",
        "w, log_likelihood_values = Logistic_Regression_Gradient_Ascent(X_train, y_train, learning_rate, num_iterations)\n",
        "\n",
        "# # Print the final coefficients\n",
        "# print(\"Coefficient vector w:\")\n",
        "# print(w)\n",
        "# Print the log likelihoood\n",
        "print(\"Log Likelihood:\")\n",
        "print(log_likelihood_values)\n"
      ]
    },
    {
      "cell_type": "markdown",
      "metadata": {
        "id": "co_m9Nf2iw_g"
      },
      "source": [
        "# Step 3: Evaluating your model"
      ]
    },
    {
      "cell_type": "code",
      "source": [
        "def predict_labels(X, w):\n",
        "    probabilities = sigmoid(np.dot(X, w))\n",
        "    return [1 if prob >= 0.5 else 0 for prob in probabilities]\n",
        "\n",
        "y_pred = predict_labels(X_test, w)"
      ],
      "metadata": {
        "id": "_kTKv8iCxX-2"
      },
      "execution_count": 82,
      "outputs": []
    },
    {
      "cell_type": "code",
      "execution_count": 83,
      "metadata": {
        "colab": {
          "base_uri": "https://localhost:8080/"
        },
        "id": "vi-281Kxiw_g",
        "outputId": "ff9a364b-4108-452f-cb3c-cf70b186c038"
      },
      "outputs": [
        {
          "output_type": "stream",
          "name": "stdout",
          "text": [
            "Precision: 0.9885057471264368\n",
            "Recall: 0.9662921348314607\n",
            "F1 Score: 0.9772727272727273\n",
            "Confusion Matrix:\n",
            "[[53  1]\n",
            " [ 3 86]]\n"
          ]
        }
      ],
      "source": [
        "from sklearn.metrics import precision_score, recall_score, f1_score, confusion_matrix\n",
        "\n",
        "# Predict probabilities for the test data using the learned coefficients\n",
        "test_predictions = hypothesis(X_test, w)\n",
        "\n",
        "# Threshold the probabilities to make binary predictions\n",
        "threshold = 0.5\n",
        "test_predictions_binary = (test_predictions >= threshold).astype(int)\n",
        "\n",
        "# Calculate precision, recall, and (optional) F1 score\n",
        "precision = precision_score(y_test, test_predictions_binary)\n",
        "recall = recall_score(y_test, test_predictions_binary)\n",
        "f1 = f1_score(y_test, test_predictions_binary)\n",
        "\n",
        "# Compute and print the confusion matrix\n",
        "conf_matrix = confusion_matrix(y_test, test_predictions_binary)\n",
        "\n",
        "print(\"Precision:\", precision)\n",
        "print(\"Recall:\", recall)\n",
        "print(\"F1 Score:\", f1)\n",
        "print(\"Confusion Matrix:\")\n",
        "print(conf_matrix)\n"
      ]
    },
    {
      "cell_type": "markdown",
      "metadata": {
        "id": "5rwrfFXziw_g"
      },
      "source": [
        "#  Experiment with different hyperparameter setting"
      ]
    },
    {
      "cell_type": "code",
      "execution_count": 84,
      "metadata": {
        "id": "oNQ4_pq4iw_g"
      },
      "outputs": [],
      "source": [
        "# Define a list of learning rates and iterations to experiment with\n",
        "learning_rates_list = [0.01, 0.1, 0.2, 0.5, 1.0]  # Different learning rates\n",
        "iterations_list = [100, 500, 1000, 2000, 5000]  # Different numbers of iterations\n",
        "\n",
        "evaluation_results = []\n",
        "\n",
        "# Iterate over learning rates and iterations\n",
        "for learning_rate in learning_rates_list:\n",
        "    for num_iterations in iterations_list:\n",
        "        # Train a logistic regression model with the current hyperparameters\n",
        "        trained_weights, log_likelihood_values = Logistic_Regression_Gradient_Ascent(X_train, y_train, learning_rate, num_iterations)\n",
        "\n",
        "        # Make predictions on the test set\n",
        "        predicted_y = predict_labels(X_test, trained_weights)\n",
        "\n",
        "        # Calculate evaluation metrics such as precision, recall, and F1 score\n",
        "        precision_value = precision_score(y_test, predicted_y)\n",
        "        recall_value = recall_score(y_test, predicted_y)\n",
        "        f1_score_value = f1_score(y_test, predicted_y)\n",
        "        confusion_matrix_data = confusion_matrix(y_test, predicted_y)\n",
        "\n",
        "        # Store the evaluation metrics and hyperparameters in a dictionary\n",
        "        evaluation_metrics = {\n",
        "            'Precision': precision_value,\n",
        "            'Recall': recall_value,\n",
        "            'F1 Score': f1_score_value,\n",
        "            'Learning Rate': learning_rate,\n",
        "            'Number of Iterations': num_iterations\n",
        "        }\n",
        "        evaluation_results.append(evaluation_metrics)\n",
        "\n",
        "\n"
      ]
    },
    {
      "cell_type": "markdown",
      "source": [
        "### **Observation After Hyperparameter Tuning**"
      ],
      "metadata": {
        "id": "Ryt8Wxod1HMr"
      }
    },
    {
      "cell_type": "code",
      "source": [
        "# Define the header with the desired order\n",
        "header = [\"Learning Rate\", \"Iterations\", \"Precision\", \"Recall\", \"F1 Score\"]\n",
        "\n",
        "# Print the header with proper formatting\n",
        "print(f\"{header[0]:<15}{header[1]:<20}{header[2]:<15}{header[3]:<15}{header[4]:<15}\")\n",
        "\n",
        "# Iterate through the evaluation results and print each row\n",
        "for result in evaluation_results:\n",
        "    row = [result[\"Learning Rate\"], result[\"Number of Iterations\"], result[\"Precision\"], result[\"Recall\"], result[\"F1 Score\"]]\n",
        "    # Format and print each row\n",
        "    print(f\"{row[0]:<15}{row[1]:<20}{row[2]:<15.2f}{row[3]:<15.2f}{row[4]:<15.2f}\")\n"
      ],
      "metadata": {
        "colab": {
          "base_uri": "https://localhost:8080/"
        },
        "id": "A9l77sKlxuuS",
        "outputId": "d823af26-3e88-45bd-8283-958819f41a90"
      },
      "execution_count": 85,
      "outputs": [
        {
          "output_type": "stream",
          "name": "stdout",
          "text": [
            "Learning Rate  Iterations          Precision      Recall         F1 Score       \n",
            "0.01           100                 0.99           0.94           0.97           \n",
            "0.01           500                 0.99           0.98           0.98           \n",
            "0.01           1000                0.99           0.99           0.99           \n",
            "0.01           2000                0.99           1.00           0.99           \n",
            "0.01           5000                0.99           0.99           0.99           \n",
            "0.1            100                 0.99           0.99           0.99           \n",
            "0.1            500                 0.99           0.99           0.99           \n",
            "0.1            1000                0.99           0.99           0.99           \n",
            "0.1            2000                0.99           1.00           0.99           \n",
            "0.1            5000                0.99           0.98           0.98           \n",
            "0.2            100                 0.99           1.00           0.99           \n",
            "0.2            500                 0.99           0.99           0.99           \n",
            "0.2            1000                0.99           1.00           0.99           \n",
            "0.2            2000                0.99           0.98           0.98           \n",
            "0.2            5000                0.99           0.98           0.98           \n",
            "0.5            100                 0.99           0.99           0.99           \n",
            "0.5            500                 0.99           0.99           0.99           \n",
            "0.5            1000                0.99           0.98           0.98           \n",
            "0.5            2000                0.99           0.98           0.98           \n",
            "0.5            5000                0.99           0.97           0.98           \n",
            "1.0            100                 0.99           0.99           0.99           \n",
            "1.0            500                 0.99           0.98           0.98           \n",
            "1.0            1000                0.99           0.98           0.98           \n",
            "1.0            2000                0.99           0.97           0.98           \n",
            "1.0            5000                0.99           0.97           0.98           \n"
          ]
        }
      ]
    },
    {
      "cell_type": "markdown",
      "source": [
        "1. **Learning Rate Impact:** Different learning rates have been tested (0.01, 0.1, 0.2, 0.5, 1.0). It's clear that the choice of learning rate has a significant impact on the evaluation metrics. Smaller learning rates (e.g., 0.01) seem to lead to slower but more consistent convergence, while larger learning rates (e.g., 1.0) can lead to more rapid convergence but might not always result in the best performance.\n",
        "\n",
        "2. **Number of Iterations:** The number of iterations has also been varied (100, 500, 1000, 2000, 5000). It's evident that, in general, as the number of iterations increases, the evaluation metrics tend to improve. However, there's a diminishing return effect where performance improvement plateaus with a sufficient number of iterations.\n",
        "\n",
        "3. **Precision, Recall, F1 Score:** Precision, recall, and F1 score are common evaluation metrics for binary classification. These metrics measure different aspects of the model's performance. High precision indicates a low rate of false positives, high recall indicates a low rate of false negatives, and a high F1 score is a balance between precision and recall.\n",
        "\n",
        "4. **Model Stability:** The model seems to achieve high precision and F1 score, suggesting that it performs well in correctly classifying positive cases (e.g., correctly identifying events). However, recall is not always perfect, indicating that it might miss some positive cases.\n",
        "\n",
        "5. **Optimal Hyperparameters:** Based on the provided data, it's not clear which combination of learning rate and number of iterations is the \"best.\" The choice of optimal hyperparameters can depend on the specific dataset and problem. You may want to consider factors such as the trade-off between training time and performance when selecting hyperparameters for your final model.\n",
        "\n",
        "6. **Regularization:** It's important to note that this analysis does not account for regularization techniques, which can also impact model performance.\n",
        "\n",
        "To further fine-tune your model, you can consider a more systematic hyperparameter search, such as using grid search or random search, to explore a broader range of hyperparameter values. Additionally, consider other techniques like cross-validation to obtain a more robust evaluation of model performance.\n",
        "\n",
        "The choice of hyperparameters ultimately depends on the specific characteristics of your dataset and the trade-offs you are willing to make between precision, recall, and training time."
      ],
      "metadata": {
        "id": "JpsSvL5d1RrP"
      }
    },
    {
      "cell_type": "code",
      "source": [],
      "metadata": {
        "id": "-4RHgBzVbout"
      },
      "execution_count": 85,
      "outputs": []
    }
  ],
  "metadata": {
    "kernelspec": {
      "display_name": "Python 3 (ipykernel)",
      "language": "python",
      "name": "python3"
    },
    "language_info": {
      "codemirror_mode": {
        "name": "ipython",
        "version": 3
      },
      "file_extension": ".py",
      "mimetype": "text/x-python",
      "name": "python",
      "nbconvert_exporter": "python",
      "pygments_lexer": "ipython3",
      "version": "3.9.18"
    },
    "colab": {
      "provenance": []
    }
  },
  "nbformat": 4,
  "nbformat_minor": 0
}